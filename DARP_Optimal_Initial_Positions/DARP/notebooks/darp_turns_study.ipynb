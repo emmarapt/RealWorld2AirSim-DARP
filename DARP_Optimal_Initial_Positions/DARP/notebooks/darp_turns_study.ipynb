{
 "cells": [
  {
   "cell_type": "markdown",
   "id": "ee34af29",
   "metadata": {},
   "source": [
    "#### Imports"
   ]
  },
  {
   "cell_type": "code",
   "execution_count": 1,
   "id": "794db50d",
   "metadata": {},
   "outputs": [
    {
     "name": "stdout",
     "output_type": "stream",
     "text": [
      "pygame 2.1.0 (SDL 2.0.16, Python 3.7.9)\n",
      "Hello from the pygame community. https://www.pygame.org/contribute.html\n"
     ]
    }
   ],
   "source": [
    "import sys\n",
    "sys.path.insert(0, \"../\")\n",
    "from darpinPoly import DARPinPoly\n",
    "import numpy as np\n",
    "from kruskal import Kruskal\n",
    "from CalculateTrajectories import CalculateTrajectories\n",
    "from Visualization import visualize_paths\n",
    "import random\n",
    "import argparse\n",
    "from turns import turns\n",
    "from pprint import pprint\n",
    "import io"
   ]
  },
  {
   "cell_type": "markdown",
   "id": "0618077c",
   "metadata": {},
   "source": [
    "#### Define problem parameters"
   ]
  },
  {
   "cell_type": "code",
   "execution_count": 2,
   "id": "29e21094",
   "metadata": {},
   "outputs": [],
   "source": [
    "rows = 10\n",
    "cols = 10\n",
    "notEqualPortions = False\n",
    "initial_positions = [1, 3, 9]\n",
    "portions = [0.2, 0.3, 0.5]\n",
    "obstacles_positions = []\n",
    "visualization = False"
   ]
  },
  {
   "cell_type": "markdown",
   "id": "0edff3bf",
   "metadata": {},
   "source": [
    "#### DARP optimization params"
   ]
  },
  {
   "cell_type": "code",
   "execution_count": 3,
   "id": "1d1e4a40",
   "metadata": {},
   "outputs": [
    {
     "name": "stdout",
     "output_type": "stream",
     "text": [
      "\n",
      "Initial Conditions Defined:\n",
      "Grid Dimensions: 10 10\n",
      "Robot Number: 3\n",
      "Initial Robots' positions [(0, 1), (0, 3), (0, 9)]\n",
      "Portions for each Robot: [0.3333333333333333, 0.3333333333333333, 0.3333333333333333] \n",
      "\n",
      "Given Grid area:\n",
      "[[0 2 0 2 0 0 0 0 0 2]\n",
      " [0 0 0 0 0 0 0 0 0 0]\n",
      " [0 0 0 0 0 0 0 0 0 0]\n",
      " [0 0 0 0 0 0 0 0 0 0]\n",
      " [0 0 0 0 0 0 0 0 0 0]\n",
      " [0 0 0 0 0 0 0 0 0 0]\n",
      " [0 0 0 0 0 0 0 0 0 0]\n",
      " [0 0 0 0 0 0 0 0 0 0]\n",
      " [0 0 0 0 0 0 0 0 0 0]\n",
      " [0 0 0 0 0 0 0 0 0 0]]\n"
     ]
    },
    {
     "ename": "AttributeError",
     "evalue": "'NoneType' object has no attribute 'findTrajectories'",
     "output_type": "error",
     "traceback": [
      "\u001B[1;31m---------------------------------------------------------------------------\u001B[0m",
      "\u001B[1;31mAttributeError\u001B[0m                            Traceback (most recent call last)",
      "\u001B[1;32m~\\AppData\\Local\\Temp/ipykernel_2388/2164415582.py\u001B[0m in \u001B[0;36m<module>\u001B[1;34m\u001B[0m\n\u001B[1;32m----> 1\u001B[1;33m \u001B[0mpoly\u001B[0m \u001B[1;33m=\u001B[0m \u001B[0mDARPinPoly\u001B[0m\u001B[1;33m(\u001B[0m\u001B[0mrows\u001B[0m\u001B[1;33m,\u001B[0m \u001B[0mcols\u001B[0m\u001B[1;33m,\u001B[0m \u001B[0mnotEqualPortions\u001B[0m\u001B[1;33m,\u001B[0m \u001B[0minitial_positions\u001B[0m\u001B[1;33m,\u001B[0m \u001B[0mportions\u001B[0m\u001B[1;33m,\u001B[0m \u001B[0mobstacles_positions\u001B[0m\u001B[1;33m,\u001B[0m \u001B[0mvisualization\u001B[0m\u001B[1;33m)\u001B[0m\u001B[1;33m\u001B[0m\u001B[1;33m\u001B[0m\u001B[0m\n\u001B[0m",
      "\u001B[1;32mC:\\gitRepositories\\pythonDARP\\darpinPoly.py\u001B[0m in \u001B[0;36m__init__\u001B[1;34m(self, nx, ny, notEqualPortions, pos, portions, obs_pos, visualization, MaxIter, CCvariation, randomLevel, dcells, importance)\u001B[0m\n\u001B[0;32m     15\u001B[0m                       MaxIter=MaxIter, CCvariation=CCvariation, randomLevel=randomLevel, dcells=dcells, importance=importance)\n\u001B[0;32m     16\u001B[0m \u001B[1;33m\u001B[0m\u001B[0m\n\u001B[1;32m---> 17\u001B[1;33m         \u001B[0msuccess\u001B[0m \u001B[1;33m=\u001B[0m \u001B[0mdarp_instance\u001B[0m\u001B[1;33m.\u001B[0m\u001B[0mfindTrajectories\u001B[0m\u001B[1;33m(\u001B[0m\u001B[1;33m)\u001B[0m\u001B[1;33m\u001B[0m\u001B[1;33m\u001B[0m\u001B[0m\n\u001B[0m\u001B[0;32m     18\u001B[0m \u001B[1;33m\u001B[0m\u001B[0m\n\u001B[0;32m     19\u001B[0m         \u001B[1;32mif\u001B[0m \u001B[1;32mnot\u001B[0m \u001B[0msuccess\u001B[0m\u001B[1;33m:\u001B[0m\u001B[1;33m\u001B[0m\u001B[1;33m\u001B[0m\u001B[0m\n",
      "\u001B[1;31mAttributeError\u001B[0m: 'NoneType' object has no attribute 'findTrajectories'"
     ]
    }
   ],
   "source": [
    "poly = DARPinPoly(rows, cols, notEqualPortions, initial_positions, portions, obstacles_positions, visualization)"
   ]
  }
 ],
 "metadata": {
  "kernelspec": {
   "display_name": "Python 3 (ipykernel)",
   "language": "python",
   "name": "python3"
  },
  "language_info": {
   "codemirror_mode": {
    "name": "ipython",
    "version": 3
   },
   "file_extension": ".py",
   "mimetype": "text/x-python",
   "name": "python",
   "nbconvert_exporter": "python",
   "pygments_lexer": "ipython3",
   "version": "3.7.9"
  }
 },
 "nbformat": 4,
 "nbformat_minor": 5
}