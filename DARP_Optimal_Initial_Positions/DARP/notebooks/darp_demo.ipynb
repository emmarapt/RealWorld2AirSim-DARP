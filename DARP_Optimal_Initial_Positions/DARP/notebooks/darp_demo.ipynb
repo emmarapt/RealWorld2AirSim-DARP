{
 "cells": [
  {
   "cell_type": "markdown",
   "id": "ee34af29",
   "metadata": {},
   "source": [
    "#### Imports"
   ]
  },
  {
   "cell_type": "code",
   "execution_count": 1,
   "id": "794db50d",
   "metadata": {},
   "outputs": [
    {
     "name": "stdout",
     "output_type": "stream",
     "text": [
      "pygame 2.1.0 (SDL 2.0.16, Python 3.7.9)\n",
      "Hello from the pygame community. https://www.pygame.org/contribute.html\n"
     ]
    }
   ],
   "source": [
    "import sys\n",
    "sys.path.insert(0, \"../\")\n",
    "from darp import DARP\n",
    "import numpy as np\n",
    "from kruskal import Kruskal\n",
    "from CalculateTrajectories import CalculateTrajectories\n",
    "from Visualization import visualize_paths\n",
    "import random\n",
    "import argparse\n",
    "from turns import turns\n",
    "from pprint import pprint\n",
    "import io"
   ]
  },
  {
   "cell_type": "markdown",
   "id": "0618077c",
   "metadata": {},
   "source": [
    "#### Define problem parameters"
   ]
  },
  {
   "cell_type": "code",
   "execution_count": 2,
   "id": "29e21094",
   "metadata": {},
   "outputs": [],
   "source": [
    "rows = 10\n",
    "cols = 10\n",
    "notEqualPortions = False\n",
    "initial_positions = [1, 3, 9]\n",
    "portions = [0.2, 0.3, 0.5]\n",
    "obstacles_positions = []\n",
    "visualization = False"
   ]
  },
  {
   "cell_type": "markdown",
   "id": "0edff3bf",
   "metadata": {},
   "source": [
    "#### DARP optimization params"
   ]
  },
  {
   "cell_type": "code",
   "execution_count": 3,
   "id": "1d1e4a40",
   "metadata": {},
   "outputs": [
    {
     "name": "stdout",
     "output_type": "stream",
     "text": [
      "\n",
      "Initial Conditions Defined:\n",
      "Grid Dimensions: 10 10\n",
      "Robot Number: 3\n",
      "Initial Robots' positions [(0, 1), (0, 3), (0, 9)]\n",
      "Portions for each Robot: [0.3333333333333333, 0.3333333333333333, 0.3333333333333333] \n",
      "\n",
      "Given Grid area:\n",
      "[[0 2 0 2 0 0 0 0 0 2]\n",
      " [0 0 0 0 0 0 0 0 0 0]\n",
      " [0 0 0 0 0 0 0 0 0 0]\n",
      " [0 0 0 0 0 0 0 0 0 0]\n",
      " [0 0 0 0 0 0 0 0 0 0]\n",
      " [0 0 0 0 0 0 0 0 0 0]\n",
      " [0 0 0 0 0 0 0 0 0 0]\n",
      " [0 0 0 0 0 0 0 0 0 0]\n",
      " [0 0 0 0 0 0 0 0 0 0]\n",
      " [0 0 0 0 0 0 0 0 0 0]]\n"
     ]
    },
    {
     "name": "stderr",
     "output_type": "stream",
     "text": [
      "c:\\gitrepositories\\pythondarp\\venv\\lib\\site-packages\\numba\\core\\ir_utils.py:2139: NumbaPendingDeprecationWarning: \u001B[1m\n",
      "Encountered the use of a type that is scheduled for deprecation: type 'reflected list' found for argument 'init_robot_pos' of function 'assign'.\n",
      "\n",
      "For more information visit https://numba.pydata.org/numba-doc/latest/reference/deprecation.html#deprecation-of-reflection-for-list-and-set-types\n",
      "\u001B[1m\n",
      "File \"..\\darp.py\", line 20:\u001B[0m\n",
      "\u001B[1m@njit    \n",
      "\u001B[1mdef assign(droneNo,rows,cols,init_robot_pos,GridEnv,MetricMatrix,A):\n",
      "\u001B[0m\u001B[1m^\u001B[0m\u001B[0m\n",
      "\u001B[0m\n",
      "  warnings.warn(NumbaPendingDeprecationWarning(msg, loc=loc))\n"
     ]
    },
    {
     "name": "stdout",
     "output_type": "stream",
     "text": [
      "\n",
      "Final Assignment Matrix:\n",
      "[[0. 0. 0. 1. 1. 1. 1. 2. 2. 2.]\n",
      " [0. 0. 0. 1. 1. 1. 1. 2. 2. 2.]\n",
      " [0. 0. 0. 1. 1. 1. 1. 2. 2. 2.]\n",
      " [0. 0. 0. 1. 1. 1. 1. 2. 2. 2.]\n",
      " [0. 0. 0. 1. 1. 1. 1. 2. 2. 2.]\n",
      " [0. 0. 0. 1. 1. 1. 1. 2. 2. 2.]\n",
      " [0. 0. 0. 1. 1. 1. 1. 2. 2. 2.]\n",
      " [0. 0. 0. 0. 1. 1. 2. 2. 2. 2.]\n",
      " [0. 0. 0. 0. 1. 1. 2. 2. 2. 2.]\n",
      " [0. 0. 0. 0. 0. 1. 2. 2. 2. 2.]]\n"
     ]
    }
   ],
   "source": [
    "darp_instance = DARP(rows, cols, notEqualPortions, initial_positions, portions, obstacles_positions, visualization)\n",
    "success = darp_instance.findTrajectories()"
   ]
  },
  {
   "cell_type": "code",
   "execution_count": 4,
   "id": "a6127a6b",
   "metadata": {},
   "outputs": [
    {
     "name": "stdout",
     "output_type": "stream",
     "text": [
      "True\n"
     ]
    }
   ],
   "source": [
    "print(success)"
   ]
  }
 ],
 "metadata": {
  "kernelspec": {
   "display_name": "Python 3 (ipykernel)",
   "language": "python",
   "name": "python3"
  },
  "language_info": {
   "codemirror_mode": {
    "name": "ipython",
    "version": 3
   },
   "file_extension": ".py",
   "mimetype": "text/x-python",
   "name": "python",
   "nbconvert_exporter": "python",
   "pygments_lexer": "ipython3",
   "version": "3.7.9"
  }
 },
 "nbformat": 4,
 "nbformat_minor": 5
}